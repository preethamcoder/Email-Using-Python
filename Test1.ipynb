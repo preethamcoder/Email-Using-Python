{
 "cells": [
  {
   "cell_type": "code",
   "execution_count": 7,
   "metadata": {},
   "outputs": [
    {
     "name": "stdout",
     "output_type": "stream",
     "text": [
      "\n",
      "Enter the function you want to see graphed and INTEGRATED!\n"
     ]
    },
    {
     "name": "stdin",
     "output_type": "stream",
     "text": [
      " x^5\n"
     ]
    },
    {
     "name": "stdout",
     "output_type": "stream",
     "text": [
      "Enter the lower bound: \n"
     ]
    },
    {
     "name": "stdin",
     "output_type": "stream",
     "text": [
      " -99\n"
     ]
    },
    {
     "name": "stdout",
     "output_type": "stream",
     "text": [
      "Enter the upper bound: \n"
     ]
    },
    {
     "name": "stdin",
     "output_type": "stream",
     "text": [
      " 99\n"
     ]
    },
    {
     "name": "stdout",
     "output_type": "stream",
     "text": [
      "Here is the graph of the function. Close the window if you want to see the calculated integral!\n"
     ]
    },
    {
     "data": {
      "image/png": "[encoded data removed]",
      "text/plain": [
       "<Figure size 432x288 with 1 Axes>"
      ]
     },
     "metadata": {
      "needs_background": "light"
     },
     "output_type": "display_data"
    },
    {
     "name": "stdout",
     "output_type": "stream",
     "text": [
      "The calculated integral of x^5 from -99.0 to 99.0 is: 0.0\n"
     ]
    }
   ],
   "source": [
    "from sympy.utilities.lambdify import lambdify\n",
    "from sympy import *\n",
    "from numpy import *\n",
    "from scipy.integrate import *\n",
    "import math, scipy\n",
    "from scipy import integrate\n",
    "import numpy as np\n",
    "from matplotlib import pyplot as plt\n",
    "from matplotlib.patches import Polygon\n",
    "import warnings\n",
    "warnings.filterwarnings(\"ignore\") \n",
    "print()\n",
    "print(\"Enter the function you want to see graphed and INTEGRATED!\")\n",
    "aba = input()\n",
    "abc = aba.replace(\"^\", \"**\").replace(\"arc\", \"a\").replace(\"ln\", \"log\")\n",
    "#print(aba)\n",
    "# Define function g\n",
    "def g(x):\n",
    "    func = eval(abc)\n",
    "    return func\n",
    "# Create an array of x values from 0 to 10\n",
    "print(\"Enter the lower bound: \")\n",
    "low = float(input())\n",
    "print(\"Enter the upper bound: \")\n",
    "upp = float(input())\n",
    "x = np.linspace(int(floor(low))-10, int(ceil(upp))+10, 200)\n",
    "#x = range(int(floor(low))-4, int(ceil(upp))+4)\n",
    "try:\n",
    "    print(\"Here is the graph of the function. Close the window if you want to see the calculated integral!\")\n",
    "    # Get the corresponding y values from the function\n",
    "    y = [g(a) for a in x]\n",
    "    # Set up the plot\n",
    "    fig, ax = plt.subplots()\n",
    "    plt.xlabel('$x$')\n",
    "    plt.ylabel(\"$\"+aba+\"$\")\n",
    "    plt.grid()\n",
    "    # Plot x against g(x)\n",
    "    plt.plot(x,y, color='orange')\n",
    "    # Make the shaded region\n",
    "    ix = np.linspace(low, upp)\n",
    "    #print(\"About to create a list of all values\")\n",
    "    iy = [g(i) for i in ix]\n",
    "    verts = [(low, 0)] + list(zip(ix, iy)) + [(upp, 0)]\n",
    "    poly = Polygon(verts, facecolor='cyan')\n",
    "    ax.add_patch(poly)\n",
    "    plt.show()\n",
    "    #print(g(x))\n",
    "    ab, bc = quad(g, low, upp)\n",
    "    print(\"The calculated integral of \" +aba+\" from \"+str(low)+\" to \"+str(upp)+\" is:\", ab)\n",
    "except:\n",
    "    print(\"There is a part or whole of your function that has not been implemented yet. Check back later!\")\n",
    "    ab, bc = quad(g, low, upp)\n",
    "    print(\"The calculated integral of \" +aba+\" from \"+str(low)+\" to \"+str(upp)+\" is:\", ab)"
   ]
  },
  {
   "cell_type": "code",
   "execution_count": null,
   "metadata": {},
   "outputs": [],
   "source": []
  }
 ],
 "metadata": {
  "kernelspec": {
   "display_name": "Python 3",
   "language": "python",
   "name": "python3"
  },
  "language_info": {
   "codemirror_mode": {
    "name": "ipython",
    "version": 3
   },
   "file_extension": ".py",
   "mimetype": "text/x-python",
   "name": "python",
   "nbconvert_exporter": "python",
   "pygments_lexer": "ipython3",
   "version": "3.8.6"
  }
 },
 "nbformat": 4,
 "nbformat_minor": 4
}
